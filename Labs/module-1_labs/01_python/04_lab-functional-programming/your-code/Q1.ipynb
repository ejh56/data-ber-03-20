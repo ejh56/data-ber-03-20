{
 "cells": [
  {
   "cell_type": "markdown",
   "metadata": {},
   "source": [
    "In the cell below, create a Python function that wraps your previous solution for the Bag of Words lab.\n",
    "\n",
    "Requirements:\n",
    "\n",
    "1. Your function should accept the following parameters:\n",
    "    * `docs` [REQUIRED] - array of document paths.\n",
    "    * `stop_words` [OPTIONAL] - array of stop words. The default value is an empty array.\n",
    "\n",
    "1. Your function should return a Python object that contains the following:\n",
    "    * `bag_of_words` - array of strings of normalized unique words in the corpus.\n",
    "    * `term_freq` - array of the term-frequency vectors."
   ]
  },
  {
   "cell_type": "code",
   "execution_count": 1,
   "metadata": {},
   "outputs": [],
   "source": [
    "import pandas as pd\n",
    "import numpy as np\n",
    "\n",
    "# Define function\n",
    "# In the function, first define the variables you will use such as `corpus`, `bag_of_words`, and `term_freq`.\n",
    "# Loop `docs` and read the content of each doc into a string in `corpus`.\n",
    "#Remember to convert the doc content to lowercases and remove punctuation.\n",
    "\n",
    "#     Loop `corpus`. Append the terms in each doc into the `bag_of_words` array. The terms in `bag_of_words` \n",
    "#     should be unique which means before adding each term you need to check if it's already added to the array.\n",
    "#     In addition, check if each term is in the `stop_words` array. Only append the term to `bag_of_words`\n",
    "#     if it is not a stop word.\n",
    "\n",
    "# Loop `corpus` again. For each doc string, count the number of occurrences of each term in `bag_of_words`. \n",
    "# Create an array for each doc's term frequency and append it to `term_freq`.\n",
    "\n",
    "def get_bow_from_docs(docs, stop_words=[]):\n",
    "    corpus = []\n",
    "    bag_of_words = []\n",
    "    term_freq = []\n",
    "    corpus_clean = []\n",
    "\n",
    "    \n",
    "    for document in docs:\n",
    "        with open(document, \"r\") as f:\n",
    "            lines, = f.readlines()\n",
    "            corpus.append(lines)\n",
    "    \n",
    "    for doc in corpus:\n",
    "        corpus_clean.append(doc.lower().replace(\".\", \"\"))\n",
    "    \n",
    "    for sentence in corpus_clean:\n",
    "        words = sentence.split(\" \")\n",
    "        for w in words:\n",
    "            if w in stop_words:\n",
    "                continue\n",
    "            if w not in bag_of_words:\n",
    "                bag_of_words.append(w)\n",
    "    \n",
    "\n",
    "    for sentence in corpus_clean:\n",
    "        terms = sentence.split()\n",
    "        storing_list = []\n",
    "        for word in bag_of_words:\n",
    "            if word in terms:\n",
    "                storing_list.append(1)\n",
    "            else:\n",
    "                storing_list.append(0)\n",
    "        term_freq.append(storing_list)\n",
    "\n",
    "    return {\n",
    "        \"bag_of_words\": bag_of_words,\n",
    "        \"term_freq\": term_freq\n",
    "    }\n",
    "    "
   ]
  },
  {
   "cell_type": "markdown",
   "metadata": {},
   "source": [
    "Test your function without stop words. You should see the output like below:\n",
    "\n",
    "```{'bag_of_words': ['ironhack', 'is', 'cool', 'i', 'love', 'am', 'a', 'student', 'at'], 'term_freq': [[1, 1, 1, 0, 0, 0, 0, 0, 0], [1, 0, 0, 1, 1, 0, 0, 0, 0], [1, 0, 0, 1, 0, 1, 1, 1, 1]]}```"
   ]
  },
  {
   "cell_type": "code",
   "execution_count": 17,
   "metadata": {},
   "outputs": [
    {
     "name": "stdout",
     "output_type": "stream",
     "text": [
      "{'bag_of_words': ['ironhack', 'is', 'cool', 'i', 'love', 'am', 'a', 'student', 'at'], 'term_freq': [[0], [0], [1]]}\n"
     ]
    }
   ],
   "source": [
    "# Define doc paths array\n",
    "docs = [\"doc1.txt\", \"doc2.txt\", \"doc3.txt\"]\n",
    "\n",
    "# Obtain BoW from your function\n",
    "bow = get_bow_from_docs(docs)\n",
    "\n",
    "# Print BoW\n",
    "print(bow)"
   ]
  },
  {
   "cell_type": "markdown",
   "metadata": {},
   "source": [
    "If your attempt above is successful, nice work done!\n",
    "\n",
    "Now test your function again with the stop words. In the previous lab we defined the stop words in a large array. In this lab, we'll import the stop words from Scikit-Learn."
   ]
  },
  {
   "cell_type": "code",
   "execution_count": 11,
   "metadata": {},
   "outputs": [
    {
     "name": "stdout",
     "output_type": "stream",
     "text": [
      "frozenset({'is', 'anyway', 'couldnt', 'wherein', 'hereupon', 'through', 'noone', 'sometimes', 'himself', 'anything', 'moreover', 'me', 'while', 'could', 'less', 'very', 'being', 'i', 'towards', 'seem', 'take', 'can', 'here', 'call', 'whereby', 'mostly', 'any', 'except', 'well', 'themselves', 'until', 'thru', 'your', 'sometime', 'myself', 'inc', 'then', 'whose', 'within', 'seemed', 'too', 'top', 'must', 'another', 'put', 'across', 'both', 'still', 'this', 'once', 'more', 'describe', 'full', 'many', 'why', 'un', 'above', 'per', 'down', 'whereas', 'about', 'even', 'has', 'from', 'neither', 'ie', 'on', 'meanwhile', 'nobody', 'nevertheless', 'always', 'third', 'whither', 'twelve', 'only', 'nor', 'beforehand', 'by', 'though', 'yet', 'go', 'thereby', 'afterwards', 'itself', 'so', 'herein', 'part', 'now', 'rather', 'enough', 'system', 'namely', 'an', 'become', 'everywhere', 'yours', 'amongst', 'together', 'the', 'however', 'least', 'own', 'fifteen', 'those', 'whereupon', 'see', 'ltd', 'ourselves', 'everything', 'indeed', 'thin', 'behind', 'anyone', 'it', 'side', 'other', 'since', 'each', 'up', 'out', 'every', 'none', 'were', 'all', 'thereafter', 'someone', 'sixty', 'name', 'wherever', 'keep', 'under', 'when', 'either', 'mill', 'than', 'he', 'would', 'these', 'of', 'do', 'last', 'twenty', 'ever', 'empty', 'hence', 'anywhere', 'you', 'be', 'whereafter', 'back', 'upon', 'over', 'eleven', 'whoever', 'forty', 'had', 'please', 'sincere', 'becomes', 're', 'throughout', 'often', 'further', 'whether', 'after', 'along', 'cannot', 'to', 'hundred', 'cant', 'one', 'been', 'ours', 'although', 'mine', 'toward', 'several', 'him', 'might', 'us', 'otherwise', 'if', 'and', 'where', 'thence', 'hasnt', 'first', 'nothing', 'such', 'former', 'etc', 'they', 'fifty', 'two', 'against', 'eg', 'during', 'same', 'beside', 'nine', 'no', 'she', 'but', 'eight', 'get', 'herself', 'them', 'never', 'six', 'due', 'yourself', 'elsewhere', 'therefore', 'may', 'anyhow', 'its', 'somehow', 'few', 'yourselves', 'something', 'how', 'already', 'what', 'which', 'whom', 'con', 'nowhere', 'because', 'with', 'we', 'done', 'should', 'have', 'latterly', 'or', 'amount', 'find', 'between', 'formerly', 'onto', 'interest', 'seeming', 'some', 'made', 'who', 'show', 'everyone', 'front', 'else', 'among', 'detail', 'next', 'three', 'move', 'for', 'fill', 'hereafter', 'am', 'whatever', 'became', 'bill', 'into', 'that', 'without', 'co', 'again', 'besides', 'hereby', 'found', 'hers', 'latter', 'as', 'my', 'beyond', 'somewhere', 'below', 'off', 'her', 'most', 'their', 'cry', 'before', 'therein', 'much', 'others', 'there', 'his', 'seems', 'thick', 'whence', 'amoungst', 'thus', 'whole', 'a', 'are', 'four', 'in', 'perhaps', 'de', 'not', 'our', 'whenever', 'at', 'around', 'give', 'alone', 'thereupon', 'ten', 'also', 'fire', 'bottom', 'via', 'becoming', 'five', 'was', 'will', 'serious', 'almost'})\n"
     ]
    }
   ],
   "source": [
    "from sklearn.feature_extraction import stop_words\n",
    "print(stop_words.ENGLISH_STOP_WORDS)"
   ]
  },
  {
   "cell_type": "markdown",
   "metadata": {},
   "source": [
    "You should have seen a large list of words that looks like:\n",
    "\n",
    "```frozenset({'across', 'mine', 'cannot', ...})```\n",
    "\n",
    "`frozenset` is a type of Python object that is immutable. In this lab you can use it just like an array without conversion."
   ]
  },
  {
   "cell_type": "markdown",
   "metadata": {},
   "source": [
    "Next, test your function with supplying `stop_words.ENGLISH_STOP_WORDS` as the second parameter."
   ]
  },
  {
   "cell_type": "code",
   "execution_count": 20,
   "metadata": {},
   "outputs": [
    {
     "name": "stdout",
     "output_type": "stream",
     "text": [
      "{'bag_of_words': ['ironhack', 'cool', 'love', 'student'], 'term_freq': [[1, 1, 0, 0], [1, 0, 1, 0], [1, 0, 0, 1]]}\n"
     ]
    }
   ],
   "source": [
    "bow = get_bow_from_docs(docs, stop_words.ENGLISH_STOP_WORDS)\n",
    "\n",
    "print(bow)"
   ]
  },
  {
   "cell_type": "markdown",
   "metadata": {},
   "source": [
    "You should have seen:\n",
    "\n",
    "```{'bag_of_words': ['ironhack', 'cool', 'love', 'student'], 'term_freq': [[1, 1, 0, 0], [1, 0, 1, 0], [1, 0, 0, 1]]}```"
   ]
  }
 ],
 "metadata": {
  "kernelspec": {
   "display_name": "Python 3",
   "language": "python",
   "name": "python3"
  },
  "language_info": {
   "codemirror_mode": {
    "name": "ipython",
    "version": 3
   },
   "file_extension": ".py",
   "mimetype": "text/x-python",
   "name": "python",
   "nbconvert_exporter": "python",
   "pygments_lexer": "ipython3",
   "version": "3.7.6"
  }
 },
 "nbformat": 4,
 "nbformat_minor": 4
}
